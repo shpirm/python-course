{
  "cells": [
    {
      "cell_type": "markdown",
      "metadata": {
        "id": "5qV_sehzFCTp"
      },
      "source": [
        "# I. OOP"
      ]
    },
    {
      "cell_type": "markdown",
      "metadata": {
        "id": "tx_U_hOALyfg"
      },
      "source": [
        "1. (6б). Створіть клас Animal, додайте три атрибути, один з яких має значення за замовчуванням та два методи на свій розсуд."
      ]
    },
    {
      "cell_type": "code",
      "execution_count": 1,
      "metadata": {
        "id": "-Vf895KaL88N"
      },
      "outputs": [],
      "source": [
        "class Animal:\n",
        "    def __init__(self, name, species, age=1):\n",
        "        self.name = name\n",
        "        self.species = species\n",
        "        self.age = age\n",
        "\n",
        "    def sleep(self):\n",
        "        print(\"Zzzz...\")\n",
        "\n",
        "    def describe(self):\n",
        "        print(f\"{self.name}: {self.species}, {self.age} років.\")"
      ]
    },
    {
      "cell_type": "markdown",
      "metadata": {
        "id": "X_UlOMB0L93w"
      },
      "source": [
        "2. (2б). Створіть два обʼєкти цього класу, де один з обʼєктів створюється із дефолтним значенням атрибуту. На одному обʼєкті отримайте значення його атрибуту, а на іншому викличте один з його методів."
      ]
    },
    {
      "cell_type": "code",
      "execution_count": 4,
      "metadata": {
        "id": "7gBu0ESOMCpG"
      },
      "outputs": [
        {
          "name": "stdout",
          "output_type": "stream",
          "text": [
            "Megatron\n",
            "Chocken: Dog, 3 років.\n",
            "Zzzz...\n"
          ]
        }
      ],
      "source": [
        "animal1 = Animal(name=\"Megatron\", species=\"Bee\")\n",
        "animal2 = Animal(name=\"Chocken\", species=\"Dog\", age=3)\n",
        "\n",
        "print(animal1.name)\n",
        "\n",
        "animal2.describe()\n",
        "animal2.sleep()"
      ]
    },
    {
      "cell_type": "markdown",
      "metadata": {
        "id": "HoqSCZt1MHn5"
      },
      "source": [
        "3. (5б). Створіть клас, де атрибути мають різні рівні доступу. Спробуйте отримати їхні значення та опишіть результати."
      ]
    },
    {
      "cell_type": "code",
      "execution_count": 6,
      "metadata": {
        "id": "r9b3vJxBMSPV"
      },
      "outputs": [],
      "source": [
        "class Note:\n",
        "    def __init__(self, title, author, info):\n",
        "        self.title = title  # Публічний атрибут\n",
        "        self._author = author  # Захищений атрибут\n",
        "        self.__info = info  # Приватний атрибут\n",
        "\n",
        "    def display_info(self):\n",
        "        print(f\"{self.title}, {self._author}: {self.__info}\")"
      ]
    },
    {
      "cell_type": "code",
      "execution_count": 8,
      "metadata": {},
      "outputs": [
        {
          "name": "stdout",
          "output_type": "stream",
          "text": [
            "Secret\n",
            "I\n",
            "Secret, I: Very secret information!\n"
          ]
        }
      ],
      "source": [
        "note = Note(\"Secret\", \"I\", \"Very secret information!\")\n",
        "\n",
        "# Доступ до публічного атрибуту\n",
        "print(note.title)  # Secret\n",
        "\n",
        "# Спроба доступу до захищеного атрибуту\n",
        "print(note._author)  # I\n",
        "\n",
        "note.display_info()"
      ]
    },
    {
      "cell_type": "code",
      "execution_count": 10,
      "metadata": {},
      "outputs": [
        {
          "ename": "AttributeError",
          "evalue": "'Note' object has no attribute '__info'",
          "output_type": "error",
          "traceback": [
            "\u001b[1;31m---------------------------------------------------------------------------\u001b[0m",
            "\u001b[1;31mAttributeError\u001b[0m                            Traceback (most recent call last)",
            "Cell \u001b[1;32mIn[10], line 2\u001b[0m\n\u001b[0;32m      1\u001b[0m \u001b[38;5;66;03m# Спроба доступу до приватного атрибуту\u001b[39;00m\n\u001b[1;32m----> 2\u001b[0m \u001b[38;5;28mprint\u001b[39m(\u001b[43mnote\u001b[49m\u001b[38;5;241;43m.\u001b[39;49m\u001b[43m__info\u001b[49m)  \u001b[38;5;66;03m# AttributeError\u001b[39;00m\n",
            "\u001b[1;31mAttributeError\u001b[0m: 'Note' object has no attribute '__info'"
          ]
        }
      ],
      "source": [
        "# Спроба доступу до приватного атрибуту\n",
        "print(note.__info)  # AttributeError"
      ]
    },
    {
      "cell_type": "markdown",
      "metadata": {
        "id": "5op2m2vgMSkZ"
      },
      "source": [
        "4. (7б). Як ви розумієте термін self? Для чого використовується метод __init __?"
      ]
    },
    {
      "cell_type": "markdown",
      "metadata": {
        "id": "DyiPqNRvMasx"
      },
      "source": [
        "`self` є посиланням на поточний екземпляр конкретного. Він використовується для доступу до змінних класу,та методів (цього самого екземпляру). `self` дозволяє класу розрізняти свої атрибути та методи від локальних змінних та методів, оскільки `self` вказує, що ці атрибути та методи прив'язані саме до конкретного об'єкта."
      ]
    },
    {
      "cell_type": "code",
      "execution_count": 11,
      "metadata": {},
      "outputs": [
        {
          "name": "stdout",
          "output_type": "stream",
          "text": [
            "Атрибут класу, Локальна змінна\n"
          ]
        }
      ],
      "source": [
        "class Example:\n",
        "    def __init__(self, data):\n",
        "        self.data = data  \n",
        "\n",
        "    def display_info(self, data):\n",
        "        print(f\"{self.data}, {data}\")\n",
        "\n",
        "test = Example(\"Атрибут класу\")\n",
        "test.display_info(\"Локальна змінна\")"
      ]
    },
    {
      "cell_type": "markdown",
      "metadata": {},
      "source": [
        "Метод `__init__` є конструктором класу. Він автоматично викликається при створенні нового об'єкта. `__init__` дозволяє задати початкові значення атрибутам об'єкта при його створенні."
      ]
    },
    {
      "cell_type": "markdown",
      "metadata": {
        "id": "-6X8EGfjMd2y"
      },
      "source": [
        "5. (9б). Створіть клас Фігура без атрибутів, з методом get_area для отримання площі фігури, що повертає 0 та __add __, який приймає self та other в якості аргументів, а повертає суму площин фігур self та other."
      ]
    },
    {
      "cell_type": "code",
      "execution_count": 20,
      "metadata": {
        "id": "4rvO_wYUMaEr"
      },
      "outputs": [],
      "source": [
        "class Figure:\n",
        "    def get_area(self):\n",
        "        return 0\n",
        "\n",
        "    def __add__(self, other):\n",
        "        return self.get_area() + other.get_area()"
      ]
    },
    {
      "cell_type": "markdown",
      "metadata": {
        "id": "SFcKnnv5Mo_z"
      },
      "source": [
        "6. (11б). Створіть 2 дочірніх класи від Фігури: Трикутник та Коло, які мають атрибути, необхідні для розрахунку площин. Визначте метод get_area в кожному з них так, щоби вони розраховували площу в залежності від формули для кожного типу фігури. Створіть обʼєкт класу Трикутник та обʼєкт класу Коло. Виконайте операцію суми за допомогою оператора + між ними."
      ]
    },
    {
      "cell_type": "code",
      "execution_count": 25,
      "metadata": {
        "id": "H3GVNr69Muf3"
      },
      "outputs": [],
      "source": [
        "class Triangle(Figure):\n",
        "    def __init__(self, base, height):\n",
        "        self.base = base\n",
        "        self.height = height\n",
        "\n",
        "    def get_area(self):\n",
        "        return 0.5 * self.base * self.height # S = 0.5ah\n",
        "\n",
        "class Circle(Figure):\n",
        "    def __init__(self, radius):\n",
        "        self.radius = radius\n",
        "\n",
        "    def get_area(self):\n",
        "        return 3.14 * self.radius ** 2 # або math.pi, S = Pi * R^2"
      ]
    },
    {
      "cell_type": "code",
      "execution_count": 29,
      "metadata": {},
      "outputs": [
        {
          "data": {
            "text/plain": [
              "(6.0, 12.56, 18.560000000000002)"
            ]
          },
          "execution_count": 29,
          "metadata": {},
          "output_type": "execute_result"
        }
      ],
      "source": [
        "triangle = Triangle(base=3, height=4)\n",
        "circle = Circle(radius=2)\n",
        "\n",
        "triangle.get_area(), circle.get_area(), triangle + circle"
      ]
    },
    {
      "cell_type": "markdown",
      "metadata": {
        "id": "HCvR206YMvLK"
      },
      "source": [
        "7. (3б). Продемонструйте різницю між isinstance та issubclass."
      ]
    },
    {
      "cell_type": "code",
      "execution_count": 30,
      "metadata": {
        "id": "L_V1bBvDM0GN"
      },
      "outputs": [],
      "source": [
        "class Animal:\n",
        "    pass\n",
        "\n",
        "class Dog(Animal):\n",
        "    pass\n",
        "\n",
        "my_dog = Dog()"
      ]
    },
    {
      "cell_type": "code",
      "execution_count": 31,
      "metadata": {},
      "outputs": [
        {
          "name": "stdout",
          "output_type": "stream",
          "text": [
            "True\n",
            "True\n",
            "True\n",
            "False\n"
          ]
        }
      ],
      "source": [
        "print(isinstance(my_dog, Dog))  # True - my_dog є екземпляром класу Dog\n",
        "print(isinstance(my_dog, Animal))  # True - my_dog є також екземпляром класу Animal, оскільки Dog є підкласом Animal\n",
        "\n",
        "print(issubclass(Dog, Animal))  # True - Dog є підкласом Animal\n",
        "print(issubclass(Animal, Dog))  # False - Animal не є підкласом Dog"
      ]
    },
    {
      "cell_type": "markdown",
      "metadata": {
        "id": "jjsaBZ-iM0Qq"
      },
      "source": [
        "8. (13б). Створіть клас BankAccount з приватними атрибутами balance та account_number. Реалізуйте методи поповнення та зняття коштів, забезпечивши належну інкапсуляцію. Підказка: використовуйте декоратори property та setter."
      ]
    },
    {
      "cell_type": "code",
      "execution_count": 51,
      "metadata": {
        "id": "xCvZ7lh8M7YA"
      },
      "outputs": [],
      "source": [
        "class BankAccount:\n",
        "    def __init__(self, account_number, balance=0):\n",
        "        self.__account_number = account_number # Приватний атрибут\n",
        "        self.__balance = balance # Приватний атрибут\n",
        "\n",
        "    @property\n",
        "    def balance(self):\n",
        "        return self.__balance\n",
        "\n",
        "    @property\n",
        "    def account_number(self):\n",
        "        return self.__account_number\n",
        "    \n",
        "    @account_number.setter\n",
        "    def account_number(self, number):\n",
        "        self.__account_number = number\n",
        "\n",
        "    def deposit(self, amount):\n",
        "        if amount > 0: # Не можливо покласти відємну суму\n",
        "            self.__balance += amount\n",
        "            print(f\"Додано {amount}. Баланс: {self.__balance}\")\n",
        "        else:\n",
        "            print(f\"Ні. Жодних мінусів. Баланс: {self.__balance}\")\n",
        "\n",
        "    def withdraw(self, amount):\n",
        "        if amount > 0: # Не можливо зняти відємну суму\n",
        "            if self.__balance >= amount: # Не можливо зняти суму більшу за баланс\n",
        "                self.__balance -= amount\n",
        "                print(f\"Знято {amount}. Баланс: {self.__balance}\")\n",
        "            else:\n",
        "                print(f\"Ні. Забагато. Баланс: {self.__balance}\")\n",
        "        else:\n",
        "            print(f\"Ні. Жодних мінусів. Баланс: {self.__balance}\")"
      ]
    },
    {
      "cell_type": "code",
      "execution_count": 52,
      "metadata": {},
      "outputs": [
        {
          "name": "stdout",
          "output_type": "stream",
          "text": [
            "Додано 100. Баланс: 1100\n",
            "Знято 500. Баланс: 600\n",
            "Ні. Забагато. Баланс: 600\n"
          ]
        }
      ],
      "source": [
        "account = BankAccount(\"000\", 1000)\n",
        "account.deposit(100)\n",
        "account.withdraw(500)\n",
        "\n",
        "account.withdraw(1500)"
      ]
    },
    {
      "cell_type": "code",
      "execution_count": 53,
      "metadata": {},
      "outputs": [
        {
          "data": {
            "text/plain": [
              "600"
            ]
          },
          "execution_count": 53,
          "metadata": {},
          "output_type": "execute_result"
        }
      ],
      "source": [
        "account.balance # Можемо переглянути"
      ]
    },
    {
      "cell_type": "code",
      "execution_count": 54,
      "metadata": {},
      "outputs": [
        {
          "ename": "AttributeError",
          "evalue": "property 'balance' of 'BankAccount' object has no setter",
          "output_type": "error",
          "traceback": [
            "\u001b[1;31m---------------------------------------------------------------------------\u001b[0m",
            "\u001b[1;31mAttributeError\u001b[0m                            Traceback (most recent call last)",
            "Cell \u001b[1;32mIn[54], line 1\u001b[0m\n\u001b[1;32m----> 1\u001b[0m \u001b[43maccount\u001b[49m\u001b[38;5;241;43m.\u001b[39;49m\u001b[43mbalance\u001b[49m \u001b[38;5;241m=\u001b[39m \u001b[38;5;241m500\u001b[39m \u001b[38;5;66;03m# Не можемо змінити. Створення сеттерів для балансу не є логічним, оскільки не можливо \"переписати\" кількість грошей на рахунку\u001b[39;00m\n",
            "\u001b[1;31mAttributeError\u001b[0m: property 'balance' of 'BankAccount' object has no setter"
          ]
        }
      ],
      "source": [
        "account.balance = 500 # Не можемо змінити. Створення сеттеру для балансу не є логічним, оскільки не можливо \"переписати\" кількість грошей на рахунку"
      ]
    },
    {
      "cell_type": "code",
      "execution_count": 55,
      "metadata": {},
      "outputs": [
        {
          "data": {
            "text/plain": [
              "'001'"
            ]
          },
          "execution_count": 55,
          "metadata": {},
          "output_type": "execute_result"
        }
      ],
      "source": [
        "account.account_number = \"001\" # Mожемо змінити. Створення сеттеру для номеру аккаунту є трохи більш логічним\n",
        "account.account_number"
      ]
    },
    {
      "cell_type": "markdown",
      "metadata": {
        "id": "tIzL2SJTM8ft"
      },
      "source": [
        "9. (11б). Створіть клас Library, який містить список об'єктів типу Book. Реалізуйте методи для додавання книги, видалення книги та відображення списку книг."
      ]
    },
    {
      "cell_type": "code",
      "execution_count": 78,
      "metadata": {
        "id": "HWxfJKLtNAUZ"
      },
      "outputs": [],
      "source": [
        "class Book:\n",
        "    def __init__(self, title, author):\n",
        "        self.title = title\n",
        "        self.author = author\n",
        "\n",
        "    def __str__(self):\n",
        "        return f\"'{self.title}' вiд {self.author}\"\n",
        "\n",
        "class Library:\n",
        "    def __init__(self):\n",
        "        self.books = []\n",
        "\n",
        "    def add_book(self, book):\n",
        "        self.books.append(book)\n",
        "\n",
        "    def remove_book(self, book_title):\n",
        "        for book in self.books:\n",
        "            if book.title == book_title:\n",
        "                self.books.remove(book)\n",
        "                print(f\"Книга '{book_title}' прибрана.\") # або return стрічки з інформацією\n",
        "                return\n",
        "            \n",
        "        print(f\"Книгу '{book_title}' не знайдено.\")\n",
        "\n",
        "    def display_books(self):\n",
        "        if not self.books:\n",
        "            print(\"Бібліотека порожня.\")\n",
        "        print(f\"Книги:\" + \", \".join(str(book) for book in self.books)) # __str__ для зручного виведення інформації"
      ]
    },
    {
      "cell_type": "code",
      "execution_count": 80,
      "metadata": {},
      "outputs": [
        {
          "name": "stdout",
          "output_type": "stream",
          "text": [
            "Книги:'Якась' вiд Хтось, 'Якась_1' вiд Хтось_1\n"
          ]
        }
      ],
      "source": [
        "library = Library()\n",
        "book1 = Book(\"Якась\", \"Хтось\")\n",
        "book2 = Book(\"Якась_1\", \"Хтось_1\")\n",
        "\n",
        "library.add_book(book1)\n",
        "library.add_book(book2)\n",
        "\n",
        "library.display_books()"
      ]
    },
    {
      "cell_type": "code",
      "execution_count": 81,
      "metadata": {},
      "outputs": [
        {
          "name": "stdout",
          "output_type": "stream",
          "text": [
            "Книга 'Якась' прибрана.\n",
            "Книги:'Якась_1' вiд Хтось_1\n"
          ]
        }
      ],
      "source": [
        "library.remove_book(\"Якась\")\n",
        "library.display_books()"
      ]
    },
    {
      "cell_type": "markdown",
      "metadata": {
        "id": "lmV8pAwwNIqu"
      },
      "source": [
        "10. (13б). Створіть клас Person з атрибутами name та age. Створіть ще один клас Employee з такими атрибутами, як department та salary. Створіть клас Manager, який успадковує обидва класи Person та Employee. Продемонструйте використання множинної спадковості, створивши обʼєкт класу Manager та отримавши mro для цього класу."
      ]
    },
    {
      "cell_type": "code",
      "execution_count": 85,
      "metadata": {
        "id": "R49grKlWNPeN"
      },
      "outputs": [
        {
          "name": "stdout",
          "output_type": "stream",
          "text": [
            "Хтось, 40 років\n",
            "[<class '__main__.Manager'>, <class '__main__.Person'>, <class '__main__.Employee'>, <class 'object'>]\n"
          ]
        }
      ],
      "source": [
        "class Person:\n",
        "    def __init__(self, name, age):\n",
        "        self.name = name\n",
        "        self.age = age\n",
        "\n",
        "    def __str__(self):\n",
        "        return f\"{self.name}, {self.age} років\"\n",
        "\n",
        "class Employee:\n",
        "    def __init__(self, department, salary):\n",
        "        self.department = department\n",
        "        self.salary = salary\n",
        "\n",
        "    def __str__(self):\n",
        "        return f\"Відділ {self.department} із зарплатою {self.salary}\"\n",
        "\n",
        "class Manager(Person, Employee): # 1 Person, 2 Employee\n",
        "    def __init__(self, name, age, department, salary):\n",
        "        Person.__init__(self, name, age)\n",
        "        Employee.__init__(self, department, salary)\n",
        "\n",
        "    def __str__(self):\n",
        "        return f\"{super().__str__()}\" # -> Person __str__\n",
        "\n",
        "manager = Manager(\"Хтось\", 40, \"Десь\", 100000)\n",
        "print(manager) # Хтось, 40 років -> Бо спадкує від Person, а вже потім Employee\n",
        "\n",
        "print(Manager.mro())"
      ]
    },
    {
      "cell_type": "code",
      "execution_count": 86,
      "metadata": {},
      "outputs": [
        {
          "name": "stdout",
          "output_type": "stream",
          "text": [
            "Відділ Десь із зарплатою 100000\n",
            "[<class '__main__.Manager'>, <class '__main__.Employee'>, <class '__main__.Person'>, <class 'object'>]\n"
          ]
        }
      ],
      "source": [
        "class Manager(Employee, Person): # 1 Employee, 2 Person\n",
        "    def __init__(self, name, age, department, salary):\n",
        "        Person.__init__(self, name, age)\n",
        "        Employee.__init__(self, department, salary)\n",
        "\n",
        "    def __str__(self):\n",
        "        return f\"{super().__str__()}\" # -> Employee __str__\n",
        "\n",
        "manager = Manager(\"Хтось\", 40, \"Десь\", 100000)\n",
        "print(manager) # Хтось, 40 років -> Бо спадкує від Employee, а вже потім Person\n",
        "\n",
        "print(Manager.mro())"
      ]
    },
    {
      "cell_type": "markdown",
      "metadata": {
        "id": "dIJyUiNBFG8G"
      },
      "source": [
        "# II. Iterator"
      ]
    },
    {
      "cell_type": "markdown",
      "metadata": {
        "id": "13vsm0NyKIzL"
      },
      "source": [
        "11. (4б). Визначте рядок(str) з 4ма різними за значенням символами. Створіть ітератор на основі цього рядка. Викличте 5 разів функцію next на ітераторі, 4ри перших з них огорніть у ф-цію print()."
      ]
    },
    {
      "cell_type": "code",
      "execution_count": 89,
      "metadata": {
        "id": "81ntabAkKuz-"
      },
      "outputs": [
        {
          "name": "stdout",
          "output_type": "stream",
          "text": [
            "a\n",
            "b\n",
            "c\n",
            "d\n"
          ]
        },
        {
          "ename": "StopIteration",
          "evalue": "",
          "output_type": "error",
          "traceback": [
            "\u001b[1;31m---------------------------------------------------------------------------\u001b[0m",
            "\u001b[1;31mStopIteration\u001b[0m                             Traceback (most recent call last)",
            "Cell \u001b[1;32mIn[89], line 7\u001b[0m\n\u001b[0;32m      5\u001b[0m \u001b[38;5;28;01mfor\u001b[39;00m i \u001b[38;5;129;01min\u001b[39;00m \u001b[38;5;28mrange\u001b[39m(\u001b[38;5;241m4\u001b[39m):\n\u001b[0;32m      6\u001b[0m     \u001b[38;5;28mprint\u001b[39m(\u001b[38;5;28mnext\u001b[39m(test_iterator))\n\u001b[1;32m----> 7\u001b[0m \u001b[38;5;28;43mnext\u001b[39;49m\u001b[43m(\u001b[49m\u001b[43mtest_iterator\u001b[49m\u001b[43m)\u001b[49m\n",
            "\u001b[1;31mStopIteration\u001b[0m: "
          ]
        }
      ],
      "source": [
        "test_string = \"abcd\"\n",
        "\n",
        "test_iterator = iter(test_string)\n",
        "\n",
        "for i in range(4):\n",
        "    print(next(test_iterator))\n",
        "next(test_iterator)"
      ]
    },
    {
      "cell_type": "markdown",
      "metadata": {
        "id": "aekWHGXOLRsO"
      },
      "source": [
        "А що якщо викликати цю ж функцію на рядку?"
      ]
    },
    {
      "cell_type": "code",
      "execution_count": 90,
      "metadata": {
        "id": "mxATGsErLV1i"
      },
      "outputs": [
        {
          "ename": "TypeError",
          "evalue": "'str' object is not an iterator",
          "output_type": "error",
          "traceback": [
            "\u001b[1;31m---------------------------------------------------------------------------\u001b[0m",
            "\u001b[1;31mTypeError\u001b[0m                                 Traceback (most recent call last)",
            "Cell \u001b[1;32mIn[90], line 1\u001b[0m\n\u001b[1;32m----> 1\u001b[0m \u001b[38;5;28;43mnext\u001b[39;49m\u001b[43m(\u001b[49m\u001b[43mtest_string\u001b[49m\u001b[43m)\u001b[49m\n",
            "\u001b[1;31mTypeError\u001b[0m: 'str' object is not an iterator"
          ]
        }
      ],
      "source": [
        "next(test_string) # Рядок не є ітерабельним"
      ]
    },
    {
      "cell_type": "markdown",
      "metadata": {
        "id": "XwtMEopwJ4pH"
      },
      "source": [
        " 12. (5б). Опишіть своїми словами в одному реченні, як ви розумієте різницю між ітерабельними обʼєктами та ітераторами (можна на прикладі)."
      ]
    },
    {
      "cell_type": "markdown",
      "metadata": {
        "id": "-sHrODc3KFn8"
      },
      "source": [
        "* Ітерабельний об'єкт - об'єкт, який можна перебирати, використовуючи цикл. (Книга зі сторінками)\n",
        "* Ітератор - об'єкт, який відстежує цей стан перебору і може повертати наступний елемент. (Палець, закладка)"
      ]
    },
    {
      "cell_type": "markdown",
      "metadata": {
        "id": "E9qJWmNbK8Gl"
      },
      "source": [
        "13. (11б). Створіть клас, що має визначений Iterator Protocol та при кожному виклику next повертає літери англійської абетки, поки вони не вичерпаються."
      ]
    },
    {
      "cell_type": "code",
      "execution_count": 91,
      "metadata": {
        "id": "cqx-g_RsLo6I"
      },
      "outputs": [
        {
          "name": "stdout",
          "output_type": "stream",
          "text": [
            "a\n",
            "b\n",
            "c\n",
            "d\n",
            "e\n",
            "f\n",
            "g\n",
            "h\n",
            "i\n",
            "j\n",
            "k\n",
            "l\n",
            "m\n",
            "n\n",
            "o\n",
            "p\n",
            "q\n",
            "r\n",
            "s\n",
            "t\n",
            "u\n",
            "v\n",
            "w\n",
            "x\n",
            "y\n",
            "z\n"
          ]
        }
      ],
      "source": [
        "class AlphabetIterator:\n",
        "    def __init__(self):\n",
        "        self.current = ord('a') # \"Номер\" символу a\n",
        "\n",
        "    def __iter__(self):\n",
        "        return self\n",
        "\n",
        "    def __next__(self):\n",
        "        if self.current > ord('z'): # \"Номер\" символу z\n",
        "            raise StopIteration # Підняття помилки в разі спроби виклику наступної літери після z\n",
        "        letter = chr(self.current) # З номеру в символ з chr()\n",
        "        self.current += 1 # Наступний номер -> літери алфавіту мають послідовний номер\n",
        "        return letter\n",
        "\n",
        "alphabet_iterator = AlphabetIterator()\n",
        "\n",
        "for letter in alphabet_iterator:\n",
        "    print(letter)"
      ]
    },
    {
      "cell_type": "code",
      "execution_count": 92,
      "metadata": {},
      "outputs": [
        {
          "ename": "StopIteration",
          "evalue": "",
          "output_type": "error",
          "traceback": [
            "\u001b[1;31m---------------------------------------------------------------------------\u001b[0m",
            "\u001b[1;31mStopIteration\u001b[0m                             Traceback (most recent call last)",
            "Cell \u001b[1;32mIn[92], line 1\u001b[0m\n\u001b[1;32m----> 1\u001b[0m \u001b[38;5;28;43mnext\u001b[39;49m\u001b[43m(\u001b[49m\u001b[43malphabet_iterator\u001b[49m\u001b[43m)\u001b[49m\n",
            "Cell \u001b[1;32mIn[91], line 10\u001b[0m, in \u001b[0;36mAlphabetIterator.__next__\u001b[1;34m(self)\u001b[0m\n\u001b[0;32m      8\u001b[0m \u001b[38;5;28;01mdef\u001b[39;00m \u001b[38;5;21m__next__\u001b[39m(\u001b[38;5;28mself\u001b[39m):\n\u001b[0;32m      9\u001b[0m     \u001b[38;5;28;01mif\u001b[39;00m \u001b[38;5;28mself\u001b[39m\u001b[38;5;241m.\u001b[39mcurrent \u001b[38;5;241m>\u001b[39m \u001b[38;5;28mord\u001b[39m(\u001b[38;5;124m'\u001b[39m\u001b[38;5;124mz\u001b[39m\u001b[38;5;124m'\u001b[39m): \u001b[38;5;66;03m# \"Номер\" символу z\u001b[39;00m\n\u001b[1;32m---> 10\u001b[0m         \u001b[38;5;28;01mraise\u001b[39;00m \u001b[38;5;167;01mStopIteration\u001b[39;00m \u001b[38;5;66;03m# Підняття помилки в разі спроби виклику наступної літери після z\u001b[39;00m\n\u001b[0;32m     11\u001b[0m     letter \u001b[38;5;241m=\u001b[39m \u001b[38;5;28mchr\u001b[39m(\u001b[38;5;28mself\u001b[39m\u001b[38;5;241m.\u001b[39mcurrent) \u001b[38;5;66;03m# З номеру в символ з chr()\u001b[39;00m\n\u001b[0;32m     12\u001b[0m     \u001b[38;5;28mself\u001b[39m\u001b[38;5;241m.\u001b[39mcurrent \u001b[38;5;241m+\u001b[39m\u001b[38;5;241m=\u001b[39m \u001b[38;5;241m1\u001b[39m \u001b[38;5;66;03m# Наступний номер -> літери алфавіту мають послідовний номер\u001b[39;00m\n",
            "\u001b[1;31mStopIteration\u001b[0m: "
          ]
        }
      ],
      "source": [
        "next(alphabet_iterator)"
      ]
    },
    {
      "cell_type": "markdown",
      "metadata": {
        "id": "Z3E3S_s1Fv7-"
      },
      "source": [
        "# Вітаю! Ви велика(ий) молодець, що впоралась(вся). Похваліть себе та побалуйте чимось приємним. Я Вами пишаюся."
      ]
    }
  ],
  "metadata": {
    "colab": {
      "provenance": []
    },
    "kernelspec": {
      "display_name": "Python 3",
      "name": "python3"
    },
    "language_info": {
      "codemirror_mode": {
        "name": "ipython",
        "version": 3
      },
      "file_extension": ".py",
      "mimetype": "text/x-python",
      "name": "python",
      "nbconvert_exporter": "python",
      "pygments_lexer": "ipython3",
      "version": "3.11.5"
    }
  },
  "nbformat": 4,
  "nbformat_minor": 0
}
